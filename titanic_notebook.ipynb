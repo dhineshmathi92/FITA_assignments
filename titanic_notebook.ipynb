{
 "cells": [
  {
   "cell_type": "code",
   "execution_count": 1,
   "id": "2ebd1d8f-a3e8-49a0-9285-3d91bc08337e",
   "metadata": {},
   "outputs": [
    {
     "name": "stderr",
     "output_type": "stream",
     "text": [
      "C:\\Users\\DHINESH\\AppData\\Local\\Temp\\ipykernel_11172\\512526640.py:12: FutureWarning: A value is trying to be set on a copy of a DataFrame or Series through chained assignment using an inplace method.\n",
      "The behavior will change in pandas 3.0. This inplace method will never work because the intermediate object on which we are setting values always behaves as a copy.\n",
      "\n",
      "For example, when doing 'df[col].method(value, inplace=True)', try using 'df.method({col: value}, inplace=True)' or df[col] = df[col].method(value) instead, to perform the operation inplace on the original object.\n",
      "\n",
      "\n",
      "  df['embarked'].fillna(df['embarked'].mode()[0], inplace=True)\n"
     ]
    },
    {
     "name": "stdout",
     "output_type": "stream",
     "text": [
      "              precision    recall  f1-score   support\n",
      "\n",
      "           0       0.80      0.85      0.82       110\n",
      "           1       0.73      0.67      0.70        69\n",
      "\n",
      "    accuracy                           0.78       179\n",
      "   macro avg       0.77      0.76      0.76       179\n",
      "weighted avg       0.77      0.78      0.77       179\n",
      "\n"
     ]
    },
    {
     "data": {
      "text/plain": [
       "['C:\\\\Users\\\\DHINESH\\\\Documents\\\\FITA Projects\\\\samp_proj\\\\model.pkl']"
      ]
     },
     "execution_count": 1,
     "metadata": {},
     "output_type": "execute_result"
    }
   ],
   "source": [
    "import seaborn as sns\n",
    "import joblib\n",
    "\n",
    "titanic = sns.load_dataset(\"titanic\")\n",
    "\n",
    "df = titanic[titanic.columns[:8]]\n",
    "\n",
    "\n",
    "# Dropping age column\n",
    "df = df.drop(['age'], axis=1)\n",
    "# Replacing missing values with mode in embarked column\n",
    "df['embarked'].fillna(df['embarked'].mode()[0], inplace=True)\n",
    "\n",
    "\n",
    "X = df.drop(['survived'], axis=1)\n",
    "y = df['survived']\n",
    "\n",
    "\n",
    "# train - test split\n",
    "from sklearn.model_selection import train_test_split\n",
    "Xtrain, Xtest, ytrain, ytest = train_test_split(X, y, test_size=0.2, random_state=42, stratify=y)\n",
    "\n",
    "\n",
    "\n",
    "from sklearn.preprocessing import OneHotEncoder\n",
    "from sklearn.compose import ColumnTransformer\n",
    "from sklearn.preprocessing import MinMaxScaler\n",
    "\n",
    "ct = ColumnTransformer(\n",
    "    [\n",
    "        ('ohe', OneHotEncoder(drop='first', sparse_output=False), ['sex', 'embarked']),\n",
    "        ('mm scaling', MinMaxScaler(), ['fare'])\n",
    "    ]\n",
    "    , remainder='passthrough'\n",
    "    , verbose_feature_names_out=False\n",
    "    \n",
    ")\n",
    "\n",
    "Xtrain_processed = ct.fit_transform(Xtrain)\n",
    "\n",
    "Xtest_processed = ct.transform(Xtest)\n",
    "\n",
    "\n",
    "\n",
    "\n",
    "preprocessor = \"C:\\\\Users\\\\DHINESH\\\\Documents\\\\FITA Projects\\\\samp_proj\\\\preprocessor.pkl\"\n",
    "joblib.dump(ct, preprocessor)\n",
    "\n",
    "\n",
    "from sklearn.ensemble import RandomForestClassifier\n",
    "\n",
    "rfc = RandomForestClassifier(random_state=42, n_jobs=-1)\n",
    "\n",
    "rfc.fit(Xtrain_processed, ytrain)\n",
    "\n",
    "from sklearn.metrics import accuracy_score, confusion_matrix, classification_report\n",
    "\n",
    "ypred = rfc.predict(Xtest_processed)\n",
    "\n",
    "\n",
    "\n",
    "print(classification_report(ytest, ypred))\n",
    "\n",
    "\n",
    "modelpath = \"C:\\\\Users\\\\DHINESH\\\\Documents\\\\FITA Projects\\\\samp_proj\\\\model.pkl\"\n",
    "joblib.dump(rfc, modelpath)"
   ]
  },
  {
   "cell_type": "code",
   "execution_count": null,
   "id": "7e20a2cd-5aeb-4ada-b24e-20f7feb0ffa4",
   "metadata": {},
   "outputs": [],
   "source": []
  }
 ],
 "metadata": {
  "kernelspec": {
   "display_name": ".venv",
   "language": "python",
   "name": ".venv"
  },
  "language_info": {
   "codemirror_mode": {
    "name": "ipython",
    "version": 3
   },
   "file_extension": ".py",
   "mimetype": "text/x-python",
   "name": "python",
   "nbconvert_exporter": "python",
   "pygments_lexer": "ipython3",
   "version": "3.12.4"
  }
 },
 "nbformat": 4,
 "nbformat_minor": 5
}
